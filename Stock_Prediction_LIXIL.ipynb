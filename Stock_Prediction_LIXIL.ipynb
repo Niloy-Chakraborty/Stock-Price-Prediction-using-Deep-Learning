{
  "nbformat": 4,
  "nbformat_minor": 0,
  "metadata": {
    "kernelspec": {
      "display_name": "Python 3",
      "language": "python",
      "name": "python3"
    },
    "language_info": {
      "codemirror_mode": {
        "name": "ipython",
        "version": 3
      },
      "file_extension": ".py",
      "mimetype": "text/x-python",
      "name": "python",
      "nbconvert_exporter": "python",
      "pygments_lexer": "ipython3",
      "version": "3.7.6"
    },
    "colab": {
      "name": "Stock_Prediction_LIXIL.ipynb",
      "provenance": [],
      "collapsed_sections": [],
      "machine_shape": "hm",
      "include_colab_link": true
    },
    "accelerator": "GPU"
  },
  "cells": [
    {
      "cell_type": "markdown",
      "metadata": {
        "id": "view-in-github",
        "colab_type": "text"
      },
      "source": [
        "<a href=\"https://colab.research.google.com/github/Niloy-Chakraborty/Stock-Price-Prediction-using-Deep-Learning/blob/main/Stock_Prediction_LIXIL.ipynb\" target=\"_parent\"><img src=\"https://colab.research.google.com/assets/colab-badge.svg\" alt=\"Open In Colab\"/></a>"
      ]
    },
    {
      "cell_type": "markdown",
      "metadata": {
        "id": "oMxwQ9GKkVoa"
      },
      "source": [
        "# Notebook for LIXIL Stock Price Prediction"
      ]
    },
    {
      "cell_type": "code",
      "metadata": {
        "colab": {
          "base_uri": "https://localhost:8080/",
          "height": 35
        },
        "id": "bg4M2vq_kVo1",
        "outputId": "2923fdbc-926c-4208-f97e-e3eed4d3ef91"
      },
      "source": [
        "\"\"\"\n",
        "Created on Tue Sep 14 20:01:37 2021\n",
        "@author = Chakraborty\n",
        "\"\"\""
      ],
      "execution_count": 1,
      "outputs": [
        {
          "output_type": "execute_result",
          "data": {
            "application/vnd.google.colaboratory.intrinsic+json": {
              "type": "string"
            },
            "text/plain": [
              "'\\nCreated on Tue Sep 14 20:01:37 2021\\n@author = Chakraborty\\n'"
            ]
          },
          "metadata": {},
          "execution_count": 1
        }
      ]
    },
    {
      "cell_type": "code",
      "metadata": {
        "id": "sRvHLfWuz-B_"
      },
      "source": [
        "# ! pip install yfinance"
      ],
      "execution_count": null,
      "outputs": []
    },
    {
      "cell_type": "markdown",
      "metadata": {
        "id": "SK2aOmULkVpU"
      },
      "source": [
        "### Import Dependencies"
      ]
    },
    {
      "cell_type": "code",
      "metadata": {
        "id": "BHskgZlKkVpb"
      },
      "source": [
        "import os\n",
        "import pandas as pd\n",
        "import numpy as np\n",
        "\n",
        "from sklearn.model_selection import train_test_split\n",
        "from sklearn import metrics\n",
        "from sklearn.metrics import r2_score, median_absolute_error\n",
        "from sklearn.preprocessing import MinMaxScaler, RobustScaler, StandardScaler\n",
        "from sklearn import preprocessing\n",
        "\n",
        "import joblib\n",
        "\n",
        "import seaborn as sns\n",
        "import matplotlib.pyplot as plt\n",
        "\n",
        "import keras\n",
        "import tensorflow as tf\n",
        "from tensorflow.keras.models import Model\n",
        "from tensorflow.keras.layers import Dense, Dropout, LSTM, Input, Activation, concatenate\n",
        "from tensorflow.keras import optimizers\n",
        "\n",
        "import yfinance as yf\n",
        "\n",
        "from sklearn.metrics import mean_squared_error\n",
        "from sklearn.metrics import r2_score\n",
        "\n",
        "%matplotlib inline"
      ],
      "execution_count": 3,
      "outputs": []
    },
    {
      "cell_type": "code",
      "metadata": {
        "colab": {
          "base_uri": "https://localhost:8080/"
        },
        "id": "M0vualN7lCsH",
        "outputId": "ce4adb5f-bcb4-438c-87c1-e6e208cb641e"
      },
      "source": [
        "# Connect to Google Colab.  If using Jupyter, then comment this part\n",
        "from google.colab import drive\n",
        "drive.mount('/gdrive')\n",
        "%cd /gdrive/MyDrive/GROHE_NILOY/"
      ],
      "execution_count": 4,
      "outputs": [
        {
          "output_type": "stream",
          "name": "stdout",
          "text": [
            "Drive already mounted at /gdrive; to attempt to forcibly remount, call drive.mount(\"/gdrive\", force_remount=True).\n",
            "/gdrive/MyDrive/GROHE_NILOY\n"
          ]
        }
      ]
    },
    {
      "cell_type": "markdown",
      "metadata": {
        "id": "zMcb8c20kVpe"
      },
      "source": [
        "### Load the Data"
      ]
    },
    {
      "cell_type": "markdown",
      "metadata": {
        "id": "Nx8xTH2lkVpi"
      },
      "source": [
        "#### Load Data from api from data source"
      ]
    },
    {
      "cell_type": "code",
      "metadata": {
        "id": "2C4CUgMLkVpm"
      },
      "source": [
        "# Download data as Dataframe\n",
        "# Code for LIXIL = JSGRY\n",
        "# Data Source = Yahoo finace: https://finance.yahoo.com/\n",
        "\n",
        "company_code = \"JSGRY\"\n",
        "df = yf.download(company_code, start='2010-10-15',end='2021-09-10',progress=False,)"
      ],
      "execution_count": 5,
      "outputs": []
    },
    {
      "cell_type": "markdown",
      "metadata": {
        "id": "_Ri6tHI_kVpu"
      },
      "source": [
        "#### Load Data from downloaded csv from data source"
      ]
    },
    {
      "cell_type": "code",
      "metadata": {
        "id": "t327OsjRkVpw"
      },
      "source": [
        "# # Load the data in DataFrame format\n",
        "# # Data Source = https://finance.yahoo.com/quote/JSGRY/\n",
        "\n",
        "# data_path = \"Data/Lixil_2010_2021.csv\"\n",
        "# df = pd.read_csv(data_path)"
      ],
      "execution_count": 6,
      "outputs": []
    },
    {
      "cell_type": "markdown",
      "metadata": {
        "id": "QceKVdjzkVpz"
      },
      "source": [
        "### Analyze the Data"
      ]
    },
    {
      "cell_type": "code",
      "metadata": {
        "colab": {
          "base_uri": "https://localhost:8080/",
          "height": 394
        },
        "id": "C_pbq4FEkVp0",
        "outputId": "71653902-14ae-4805-f443-0618e093d8c8"
      },
      "source": [
        "# print a first few rows\n",
        "df.head(10)"
      ],
      "execution_count": 7,
      "outputs": [
        {
          "output_type": "execute_result",
          "data": {
            "text/html": [
              "<div>\n",
              "<style scoped>\n",
              "    .dataframe tbody tr th:only-of-type {\n",
              "        vertical-align: middle;\n",
              "    }\n",
              "\n",
              "    .dataframe tbody tr th {\n",
              "        vertical-align: top;\n",
              "    }\n",
              "\n",
              "    .dataframe thead th {\n",
              "        text-align: right;\n",
              "    }\n",
              "</style>\n",
              "<table border=\"1\" class=\"dataframe\">\n",
              "  <thead>\n",
              "    <tr style=\"text-align: right;\">\n",
              "      <th></th>\n",
              "      <th>Open</th>\n",
              "      <th>High</th>\n",
              "      <th>Low</th>\n",
              "      <th>Close</th>\n",
              "      <th>Adj Close</th>\n",
              "      <th>Volume</th>\n",
              "    </tr>\n",
              "    <tr>\n",
              "      <th>Date</th>\n",
              "      <th></th>\n",
              "      <th></th>\n",
              "      <th></th>\n",
              "      <th></th>\n",
              "      <th></th>\n",
              "      <th></th>\n",
              "    </tr>\n",
              "  </thead>\n",
              "  <tbody>\n",
              "    <tr>\n",
              "      <th>2010-10-15</th>\n",
              "      <td>36.750000</td>\n",
              "      <td>36.750000</td>\n",
              "      <td>36.750000</td>\n",
              "      <td>36.750000</td>\n",
              "      <td>36.750000</td>\n",
              "      <td>200</td>\n",
              "    </tr>\n",
              "    <tr>\n",
              "      <th>2010-10-18</th>\n",
              "      <td>36.750000</td>\n",
              "      <td>36.750000</td>\n",
              "      <td>36.750000</td>\n",
              "      <td>36.750000</td>\n",
              "      <td>36.750000</td>\n",
              "      <td>0</td>\n",
              "    </tr>\n",
              "    <tr>\n",
              "      <th>2010-10-21</th>\n",
              "      <td>38.450001</td>\n",
              "      <td>38.450001</td>\n",
              "      <td>38.450001</td>\n",
              "      <td>38.450001</td>\n",
              "      <td>38.450001</td>\n",
              "      <td>200</td>\n",
              "    </tr>\n",
              "    <tr>\n",
              "      <th>2010-10-22</th>\n",
              "      <td>38.450001</td>\n",
              "      <td>38.450001</td>\n",
              "      <td>38.450001</td>\n",
              "      <td>38.450001</td>\n",
              "      <td>38.450001</td>\n",
              "      <td>0</td>\n",
              "    </tr>\n",
              "    <tr>\n",
              "      <th>2010-12-23</th>\n",
              "      <td>43.180000</td>\n",
              "      <td>43.180000</td>\n",
              "      <td>43.180000</td>\n",
              "      <td>43.180000</td>\n",
              "      <td>43.180000</td>\n",
              "      <td>200</td>\n",
              "    </tr>\n",
              "    <tr>\n",
              "      <th>2010-12-27</th>\n",
              "      <td>43.180000</td>\n",
              "      <td>43.180000</td>\n",
              "      <td>43.180000</td>\n",
              "      <td>43.180000</td>\n",
              "      <td>43.180000</td>\n",
              "      <td>0</td>\n",
              "    </tr>\n",
              "    <tr>\n",
              "      <th>2010-12-29</th>\n",
              "      <td>43.450001</td>\n",
              "      <td>43.450001</td>\n",
              "      <td>43.450001</td>\n",
              "      <td>43.450001</td>\n",
              "      <td>43.450001</td>\n",
              "      <td>500</td>\n",
              "    </tr>\n",
              "    <tr>\n",
              "      <th>2010-12-30</th>\n",
              "      <td>43.450001</td>\n",
              "      <td>43.450001</td>\n",
              "      <td>43.450001</td>\n",
              "      <td>43.450001</td>\n",
              "      <td>43.450001</td>\n",
              "      <td>0</td>\n",
              "    </tr>\n",
              "    <tr>\n",
              "      <th>2011-01-03</th>\n",
              "      <td>43.799999</td>\n",
              "      <td>43.799999</td>\n",
              "      <td>43.799999</td>\n",
              "      <td>43.799999</td>\n",
              "      <td>43.799999</td>\n",
              "      <td>500</td>\n",
              "    </tr>\n",
              "    <tr>\n",
              "      <th>2011-01-04</th>\n",
              "      <td>43.799999</td>\n",
              "      <td>43.799999</td>\n",
              "      <td>43.799999</td>\n",
              "      <td>43.799999</td>\n",
              "      <td>43.799999</td>\n",
              "      <td>0</td>\n",
              "    </tr>\n",
              "  </tbody>\n",
              "</table>\n",
              "</div>"
            ],
            "text/plain": [
              "                 Open       High        Low      Close  Adj Close  Volume\n",
              "Date                                                                     \n",
              "2010-10-15  36.750000  36.750000  36.750000  36.750000  36.750000     200\n",
              "2010-10-18  36.750000  36.750000  36.750000  36.750000  36.750000       0\n",
              "2010-10-21  38.450001  38.450001  38.450001  38.450001  38.450001     200\n",
              "2010-10-22  38.450001  38.450001  38.450001  38.450001  38.450001       0\n",
              "2010-12-23  43.180000  43.180000  43.180000  43.180000  43.180000     200\n",
              "2010-12-27  43.180000  43.180000  43.180000  43.180000  43.180000       0\n",
              "2010-12-29  43.450001  43.450001  43.450001  43.450001  43.450001     500\n",
              "2010-12-30  43.450001  43.450001  43.450001  43.450001  43.450001       0\n",
              "2011-01-03  43.799999  43.799999  43.799999  43.799999  43.799999     500\n",
              "2011-01-04  43.799999  43.799999  43.799999  43.799999  43.799999       0"
            ]
          },
          "metadata": {},
          "execution_count": 7
        }
      ]
    },
    {
      "cell_type": "markdown",
      "metadata": {
        "id": "A41Er7Q1yMsM"
      },
      "source": [
        "So, there is no entry for saturdays and sundays. Also, stock market remains closed on public holidays. This justifies why there is less number of entries."
      ]
    },
    {
      "cell_type": "code",
      "metadata": {
        "colab": {
          "base_uri": "https://localhost:8080/"
        },
        "id": "Gv7KyfTXkVp1",
        "outputId": "2044994e-48e5-4730-f0a8-4277df4759f0"
      },
      "source": [
        "# Check the shape\n",
        "df.shape"
      ],
      "execution_count": 8,
      "outputs": [
        {
          "output_type": "execute_result",
          "data": {
            "text/plain": [
              "(2458, 6)"
            ]
          },
          "metadata": {},
          "execution_count": 8
        }
      ]
    },
    {
      "cell_type": "code",
      "metadata": {
        "colab": {
          "base_uri": "https://localhost:8080/"
        },
        "id": "HMkAz4r5kVp4",
        "outputId": "bda154d3-4962-4409-9bb1-90e08a5f7ef4"
      },
      "source": [
        "# Check the data type and info\n",
        "df.info()"
      ],
      "execution_count": 9,
      "outputs": [
        {
          "output_type": "stream",
          "name": "stdout",
          "text": [
            "<class 'pandas.core.frame.DataFrame'>\n",
            "DatetimeIndex: 2458 entries, 2010-10-15 to 2021-09-07\n",
            "Data columns (total 6 columns):\n",
            " #   Column     Non-Null Count  Dtype  \n",
            "---  ------     --------------  -----  \n",
            " 0   Open       2458 non-null   float64\n",
            " 1   High       2458 non-null   float64\n",
            " 2   Low        2458 non-null   float64\n",
            " 3   Close      2458 non-null   float64\n",
            " 4   Adj Close  2458 non-null   float64\n",
            " 5   Volume     2458 non-null   int64  \n",
            "dtypes: float64(5), int64(1)\n",
            "memory usage: 134.4 KB\n"
          ]
        }
      ]
    },
    {
      "cell_type": "markdown",
      "metadata": {
        "id": "-7ybuWdPxW0c"
      },
      "source": [
        "So, we have 10 years data and all data is numeric. Lets check if we have any missing values..."
      ]
    },
    {
      "cell_type": "code",
      "metadata": {
        "colab": {
          "base_uri": "https://localhost:8080/"
        },
        "id": "gGzXDsv8kVp-",
        "outputId": "67c1a53d-9532-4139-f530-2d9b02dcc038"
      },
      "source": [
        "# Check missing values\n",
        "print('Number of missing values in the dataset:', df.isnull().sum())\n",
        "print('Percentage of missing values in the dataset:', df.isnull().sum().sum()*100/(df.shape[0]*df.shape[1]))"
      ],
      "execution_count": 10,
      "outputs": [
        {
          "output_type": "stream",
          "name": "stdout",
          "text": [
            "Number of missing values in the dataset: Open         0\n",
            "High         0\n",
            "Low          0\n",
            "Close        0\n",
            "Adj Close    0\n",
            "Volume       0\n",
            "dtype: int64\n",
            "Percentage of missing values in the dataset: 0.0\n"
          ]
        }
      ]
    },
    {
      "cell_type": "code",
      "metadata": {
        "colab": {
          "base_uri": "https://localhost:8080/",
          "height": 401
        },
        "id": "I5LPSkFCkVqA",
        "outputId": "9fdeba85-fa84-41c1-cf8f-010c928f7cfa"
      },
      "source": [
        "# Plot the data for past years for the closing value\n",
        "ticker = yf.Ticker(company_code)\n",
        "aapl_df = ticker.history(period=\"10y\")\n",
        "aapl_df['Close'].plot(title=\"LIXIL's stock price\", figsize=(10, 6))"
      ],
      "execution_count": 11,
      "outputs": [
        {
          "output_type": "execute_result",
          "data": {
            "text/plain": [
              "<matplotlib.axes._subplots.AxesSubplot at 0x7f36b692e910>"
            ]
          },
          "metadata": {},
          "execution_count": 11
        },
        {
          "output_type": "display_data",
          "data": {
            "image/png": "[encoded data removed]",
            "text/plain": [
              "<Figure size 720x432 with 1 Axes>"
            ]
          },
          "metadata": {
            "needs_background": "light"
          }
        }
      ]
    },
    {
      "cell_type": "code",
      "metadata": {
        "colab": {
          "base_uri": "https://localhost:8080/",
          "height": 733
        },
        "id": "L7OFNc5SkVqE",
        "outputId": "43eeed0e-db5a-46b3-898a-661c32037019"
      },
      "source": [
        "# Analyse the distribution of the data\n",
        "df.hist(bins=30, figsize=(15, 10))"
      ],
      "execution_count": 12,
      "outputs": [
        {
          "output_type": "execute_result",
          "data": {
            "text/plain": [
              "array([[<matplotlib.axes._subplots.AxesSubplot object at 0x7f36b44f5050>,\n",
              "        <matplotlib.axes._subplots.AxesSubplot object at 0x7f36b406aa90>],\n",
              "       [<matplotlib.axes._subplots.AxesSubplot object at 0x7f36b402d150>,\n",
              "        <matplotlib.axes._subplots.AxesSubplot object at 0x7f36b3fe27d0>],\n",
              "       [<matplotlib.axes._subplots.AxesSubplot object at 0x7f36b3f98e50>,\n",
              "        <matplotlib.axes._subplots.AxesSubplot object at 0x7f36b3f5c510>]],\n",
              "      dtype=object)"
            ]
          },
          "metadata": {},
          "execution_count": 12
        },
        {
          "output_type": "display_data",
          "data": {
            "image/png": "[encoded data removed]",
            "text/plain": [
              "<Figure size 1080x720 with 6 Axes>"
            ]
          },
          "metadata": {
            "needs_background": "light"
          }
        }
      ]
    },
    {
      "cell_type": "code",
      "metadata": {
        "colab": {
          "base_uri": "https://localhost:8080/",
          "height": 300
        },
        "id": "G-3K6hH6kVqH",
        "outputId": "893cfe04-944d-4e47-c730-f817b275f728"
      },
      "source": [
        "# check the mean,min,max and percentile values of the data\n",
        "df.describe()"
      ],
      "execution_count": 13,
      "outputs": [
        {
          "output_type": "execute_result",
          "data": {
            "text/html": [
              "<div>\n",
              "<style scoped>\n",
              "    .dataframe tbody tr th:only-of-type {\n",
              "        vertical-align: middle;\n",
              "    }\n",
              "\n",
              "    .dataframe tbody tr th {\n",
              "        vertical-align: top;\n",
              "    }\n",
              "\n",
              "    .dataframe thead th {\n",
              "        text-align: right;\n",
              "    }\n",
              "</style>\n",
              "<table border=\"1\" class=\"dataframe\">\n",
              "  <thead>\n",
              "    <tr style=\"text-align: right;\">\n",
              "      <th></th>\n",
              "      <th>Open</th>\n",
              "      <th>High</th>\n",
              "      <th>Low</th>\n",
              "      <th>Close</th>\n",
              "      <th>Adj Close</th>\n",
              "      <th>Volume</th>\n",
              "    </tr>\n",
              "  </thead>\n",
              "  <tbody>\n",
              "    <tr>\n",
              "      <th>count</th>\n",
              "      <td>2458.000000</td>\n",
              "      <td>2458.000000</td>\n",
              "      <td>2458.000000</td>\n",
              "      <td>2458.000000</td>\n",
              "      <td>2458.000000</td>\n",
              "      <td>2458.000000</td>\n",
              "    </tr>\n",
              "    <tr>\n",
              "      <th>mean</th>\n",
              "      <td>43.173389</td>\n",
              "      <td>43.323710</td>\n",
              "      <td>43.021412</td>\n",
              "      <td>43.176542</td>\n",
              "      <td>43.176542</td>\n",
              "      <td>10159.641985</td>\n",
              "    </tr>\n",
              "    <tr>\n",
              "      <th>std</th>\n",
              "      <td>8.019118</td>\n",
              "      <td>8.028099</td>\n",
              "      <td>8.008578</td>\n",
              "      <td>8.022930</td>\n",
              "      <td>8.022930</td>\n",
              "      <td>39912.520115</td>\n",
              "    </tr>\n",
              "    <tr>\n",
              "      <th>min</th>\n",
              "      <td>20.230000</td>\n",
              "      <td>20.230000</td>\n",
              "      <td>18.799999</td>\n",
              "      <td>18.799999</td>\n",
              "      <td>18.799999</td>\n",
              "      <td>0.000000</td>\n",
              "    </tr>\n",
              "    <tr>\n",
              "      <th>25%</th>\n",
              "      <td>39.534999</td>\n",
              "      <td>39.680000</td>\n",
              "      <td>39.354999</td>\n",
              "      <td>39.480000</td>\n",
              "      <td>39.480000</td>\n",
              "      <td>600.000000</td>\n",
              "    </tr>\n",
              "    <tr>\n",
              "      <th>50%</th>\n",
              "      <td>43.684999</td>\n",
              "      <td>43.889999</td>\n",
              "      <td>43.490002</td>\n",
              "      <td>43.730000</td>\n",
              "      <td>43.730000</td>\n",
              "      <td>1800.000000</td>\n",
              "    </tr>\n",
              "    <tr>\n",
              "      <th>75%</th>\n",
              "      <td>48.835000</td>\n",
              "      <td>48.980000</td>\n",
              "      <td>48.634999</td>\n",
              "      <td>48.805001</td>\n",
              "      <td>48.805001</td>\n",
              "      <td>4775.000000</td>\n",
              "    </tr>\n",
              "    <tr>\n",
              "      <th>max</th>\n",
              "      <td>60.830002</td>\n",
              "      <td>60.830002</td>\n",
              "      <td>60.830002</td>\n",
              "      <td>60.830002</td>\n",
              "      <td>60.830002</td>\n",
              "      <td>864600.000000</td>\n",
              "    </tr>\n",
              "  </tbody>\n",
              "</table>\n",
              "</div>"
            ],
            "text/plain": [
              "              Open         High  ...    Adj Close         Volume\n",
              "count  2458.000000  2458.000000  ...  2458.000000    2458.000000\n",
              "mean     43.173389    43.323710  ...    43.176542   10159.641985\n",
              "std       8.019118     8.028099  ...     8.022930   39912.520115\n",
              "min      20.230000    20.230000  ...    18.799999       0.000000\n",
              "25%      39.534999    39.680000  ...    39.480000     600.000000\n",
              "50%      43.684999    43.889999  ...    43.730000    1800.000000\n",
              "75%      48.835000    48.980000  ...    48.805001    4775.000000\n",
              "max      60.830002    60.830002  ...    60.830002  864600.000000\n",
              "\n",
              "[8 rows x 6 columns]"
            ]
          },
          "metadata": {},
          "execution_count": 13
        }
      ]
    },
    {
      "cell_type": "markdown",
      "metadata": {
        "id": "eOw_C_C4Dqdw"
      },
      "source": [
        "Mean is 43.17.  All time `High` is 60.83. All time `Low` is 18.79. `Volume` would refer to the number of shares of a security traded between its daily open and close. Here IQR of Volume fall between 600 to 4775. However, 864600 is observed as a max value."
      ]
    },
    {
      "cell_type": "markdown",
      "metadata": {
        "id": "hTmHSv8DkVqM"
      },
      "source": [
        "### Data Cleaning & Normalization"
      ]
    },
    {
      "cell_type": "code",
      "metadata": {
        "colab": {
          "base_uri": "https://localhost:8080/",
          "height": 237
        },
        "id": "rKUkUxaGkVqO",
        "outputId": "2c11bf75-17d8-4c96-de71-0796666502ef"
      },
      "source": [
        "# Looks like \tAdj Close and Close are exactly same, so lets drop this column\n",
        "\n",
        "df = df.drop(\"Adj Close\",axis=1)\n",
        "df.head()"
      ],
      "execution_count": 14,
      "outputs": [
        {
          "output_type": "execute_result",
          "data": {
            "text/html": [
              "<div>\n",
              "<style scoped>\n",
              "    .dataframe tbody tr th:only-of-type {\n",
              "        vertical-align: middle;\n",
              "    }\n",
              "\n",
              "    .dataframe tbody tr th {\n",
              "        vertical-align: top;\n",
              "    }\n",
              "\n",
              "    .dataframe thead th {\n",
              "        text-align: right;\n",
              "    }\n",
              "</style>\n",
              "<table border=\"1\" class=\"dataframe\">\n",
              "  <thead>\n",
              "    <tr style=\"text-align: right;\">\n",
              "      <th></th>\n",
              "      <th>Open</th>\n",
              "      <th>High</th>\n",
              "      <th>Low</th>\n",
              "      <th>Close</th>\n",
              "      <th>Volume</th>\n",
              "    </tr>\n",
              "    <tr>\n",
              "      <th>Date</th>\n",
              "      <th></th>\n",
              "      <th></th>\n",
              "      <th></th>\n",
              "      <th></th>\n",
              "      <th></th>\n",
              "    </tr>\n",
              "  </thead>\n",
              "  <tbody>\n",
              "    <tr>\n",
              "      <th>2010-10-15</th>\n",
              "      <td>36.750000</td>\n",
              "      <td>36.750000</td>\n",
              "      <td>36.750000</td>\n",
              "      <td>36.750000</td>\n",
              "      <td>200</td>\n",
              "    </tr>\n",
              "    <tr>\n",
              "      <th>2010-10-18</th>\n",
              "      <td>36.750000</td>\n",
              "      <td>36.750000</td>\n",
              "      <td>36.750000</td>\n",
              "      <td>36.750000</td>\n",
              "      <td>0</td>\n",
              "    </tr>\n",
              "    <tr>\n",
              "      <th>2010-10-21</th>\n",
              "      <td>38.450001</td>\n",
              "      <td>38.450001</td>\n",
              "      <td>38.450001</td>\n",
              "      <td>38.450001</td>\n",
              "      <td>200</td>\n",
              "    </tr>\n",
              "    <tr>\n",
              "      <th>2010-10-22</th>\n",
              "      <td>38.450001</td>\n",
              "      <td>38.450001</td>\n",
              "      <td>38.450001</td>\n",
              "      <td>38.450001</td>\n",
              "      <td>0</td>\n",
              "    </tr>\n",
              "    <tr>\n",
              "      <th>2010-12-23</th>\n",
              "      <td>43.180000</td>\n",
              "      <td>43.180000</td>\n",
              "      <td>43.180000</td>\n",
              "      <td>43.180000</td>\n",
              "      <td>200</td>\n",
              "    </tr>\n",
              "  </tbody>\n",
              "</table>\n",
              "</div>"
            ],
            "text/plain": [
              "                 Open       High        Low      Close  Volume\n",
              "Date                                                          \n",
              "2010-10-15  36.750000  36.750000  36.750000  36.750000     200\n",
              "2010-10-18  36.750000  36.750000  36.750000  36.750000       0\n",
              "2010-10-21  38.450001  38.450001  38.450001  38.450001     200\n",
              "2010-10-22  38.450001  38.450001  38.450001  38.450001       0\n",
              "2010-12-23  43.180000  43.180000  43.180000  43.180000     200"
            ]
          },
          "metadata": {},
          "execution_count": 14
        }
      ]
    },
    {
      "cell_type": "markdown",
      "metadata": {
        "id": "DBXqMGMqgBiO"
      },
      "source": [
        "Now lets normalize the data. As we have seen before, there are values far beyond the IQR, and it could impact the model's prediction. So lets use RobustScaler which, by definition, is robust to the outliers."
      ]
    },
    {
      "cell_type": "code",
      "metadata": {
        "id": "6JkJGDd-kVqR"
      },
      "source": [
        "# Robust scaling\n",
        "data = df.values\n",
        "scaler = preprocessing.RobustScaler()\n",
        "\n",
        "scaled_data = scaler.fit_transform(data)"
      ],
      "execution_count": 15,
      "outputs": []
    },
    {
      "cell_type": "markdown",
      "metadata": {
        "id": "_OFjcjE6zksv"
      },
      "source": [
        "### Data Pre-processing"
      ]
    },
    {
      "cell_type": "markdown",
      "metadata": {
        "id": "Whve_i8-kVqX"
      },
      "source": [
        "#### 1. Data Window Creation"
      ]
    },
    {
      "cell_type": "markdown",
      "metadata": {
        "id": "7VqGWzapY0cs"
      },
      "source": [
        "For this task, lets take data from last 50 past days (history_points), and try to predict the closing stock price for the next day. "
      ]
    },
    {
      "cell_type": "code",
      "metadata": {
        "id": "Gz3Mpj0OkVqg"
      },
      "source": [
        "history_points = 50\n",
        "# using the last {history_points} open close high low volume data points, predict the next close value\n",
        "\n",
        "lixil_histories_normalised = []\n",
        "close_values_normalised = []\n",
        "close_values= []\n",
        "\n",
        "def createWindows(scaled_data,data):\n",
        "  \"\"\"\n",
        "  Function to create windows\n",
        "  \"\"\"\n",
        "\n",
        "  for i in range(len(scaled_data) - history_points):\n",
        "    data_x = scaled_data[i:i + history_points].copy()\n",
        "    lixil_histories_normalised.append(data_x)\n",
        "\n",
        "  for i in range(len(scaled_data) - history_points):\n",
        "    data_y = scaled_data[:, 3][i + history_points].copy()  \n",
        "    close_values_normalised.append(data_y)\n",
        "\n",
        "\n",
        "  for i in range(len(data) - history_points):\n",
        "    data_y_unscaled = data[:, 3][i + history_points].copy()\n",
        "    close_values.append(data_y_unscaled)\n",
        "\n",
        "  return np.array(lixil_histories_normalised),np.array(close_values_normalised), np.array(close_values)\n",
        "\n",
        "\n",
        "\n",
        "lixil_histories, close_values_normalised, unscaled_y = createWindows(scaled_data,data)\n",
        "close_values_normalised = np.expand_dims(close_values_normalised, -1)\n",
        "unscaled_y = np.expand_dims(unscaled_y, -1)\n",
        "\n",
        "\n"
      ],
      "execution_count": 16,
      "outputs": []
    },
    {
      "cell_type": "code",
      "metadata": {
        "colab": {
          "base_uri": "https://localhost:8080/"
        },
        "id": "PWOsYSI1g9o4",
        "outputId": "e334ce0a-327e-42ef-db41-da422687a3cb"
      },
      "source": [
        "# Create an normalizer object for test purpose.\n",
        "y_normaliser = preprocessing.RobustScaler()\n",
        "y_normaliser.fit(unscaled_y)"
      ],
      "execution_count": 17,
      "outputs": [
        {
          "output_type": "execute_result",
          "data": {
            "text/plain": [
              "RobustScaler(copy=True, quantile_range=(25.0, 75.0), with_centering=True,\n",
              "             with_scaling=True)"
            ]
          },
          "metadata": {},
          "execution_count": 17
        }
      ]
    },
    {
      "cell_type": "markdown",
      "metadata": {
        "id": "Wschei55ztaQ"
      },
      "source": [
        "#### Train-test split"
      ]
    },
    {
      "cell_type": "code",
      "metadata": {
        "id": "GbBo87qZhEtU"
      },
      "source": [
        "# Define the split ratio\n",
        "test_split = 0.75"
      ],
      "execution_count": 18,
      "outputs": []
    },
    {
      "cell_type": "code",
      "metadata": {
        "colab": {
          "base_uri": "https://localhost:8080/"
        },
        "id": "AAwGDdhtkVqj",
        "outputId": "ea5c1c2e-ca8f-470b-93d9-c92cfeeef6a6"
      },
      "source": [
        "n = int(lixil_histories.shape[0] * test_split)\n",
        "\n",
        "lixil_train = lixil_histories[:n]\n",
        "y_train = close_values_normalised[:n]\n",
        "\n",
        "lixil_test = lixil_histories[n:]\n",
        "y_test = close_values_normalised[n:]\n",
        "\n",
        "unscaled_y_test = unscaled_y[n:]\n",
        "\n",
        "print(lixil_train.shape)\n",
        "print(lixil_test.shape)"
      ],
      "execution_count": 19,
      "outputs": [
        {
          "output_type": "stream",
          "name": "stdout",
          "text": [
            "(1806, 50, 5)\n",
            "(602, 50, 5)\n"
          ]
        }
      ]
    },
    {
      "cell_type": "markdown",
      "metadata": {
        "id": "cOMyRiLbkVql"
      },
      "source": [
        "## A. Building a Baseline Model"
      ]
    },
    {
      "cell_type": "markdown",
      "metadata": {
        "id": "G461tmOlkVqm"
      },
      "source": [
        "#### 1. Create the Model"
      ]
    },
    {
      "cell_type": "markdown",
      "metadata": {
        "id": "bbn3NRydZDUz"
      },
      "source": [
        "Here a LSTM based architecture is built as it shows promising result for sequence data (e.g. time-series), by learning the temporal relation from the data."
      ]
    },
    {
      "cell_type": "code",
      "metadata": {
        "colab": {
          "base_uri": "https://localhost:8080/"
        },
        "id": "DJGUz_nWkVqm",
        "outputId": "a3ca724e-ab32-4780-cf5d-4657553d895d"
      },
      "source": [
        "def lstmmodel():\n",
        "  \"\"\"\n",
        "  Function to create LSTM model\n",
        "  \"\"\"\n",
        "  lstm_input = Input(shape=(history_points, 5), name='lstm_input')\n",
        "  x = LSTM(50, name='lstm_0')(lstm_input)\n",
        "  x = Dropout(0.2, name='lstm_dropout_0')(x)\n",
        "  x = Dense(64, name='dense_0')(x)\n",
        "  x = Activation('sigmoid', name='sigmoid_0')(x)\n",
        "  x = Dense(1, name='dense_1')(x)\n",
        "  output = Activation('linear', name='linear_output')(x)\n",
        "  model = Model(inputs=lstm_input, outputs=output)\n",
        "\n",
        "  return model\n",
        "\n",
        "model = lstmmodel()\n",
        "model.summary()"
      ],
      "execution_count": 20,
      "outputs": [
        {
          "output_type": "stream",
          "name": "stdout",
          "text": [
            "Model: \"model\"\n",
            "_________________________________________________________________\n",
            "Layer (type)                 Output Shape              Param #   \n",
            "=================================================================\n",
            "lstm_input (InputLayer)      [(None, 50, 5)]           0         \n",
            "_________________________________________________________________\n",
            "lstm_0 (LSTM)                (None, 50)                11200     \n",
            "_________________________________________________________________\n",
            "lstm_dropout_0 (Dropout)     (None, 50)                0         \n",
            "_________________________________________________________________\n",
            "dense_0 (Dense)              (None, 64)                3264      \n",
            "_________________________________________________________________\n",
            "sigmoid_0 (Activation)       (None, 64)                0         \n",
            "_________________________________________________________________\n",
            "dense_1 (Dense)              (None, 1)                 65        \n",
            "_________________________________________________________________\n",
            "linear_output (Activation)   (None, 1)                 0         \n",
            "=================================================================\n",
            "Total params: 14,529\n",
            "Trainable params: 14,529\n",
            "Non-trainable params: 0\n",
            "_________________________________________________________________\n"
          ]
        }
      ]
    },
    {
      "cell_type": "markdown",
      "metadata": {
        "id": "TV7bwy3Cz-ra"
      },
      "source": [
        "#### 2. Compile the Model and start Training"
      ]
    },
    {
      "cell_type": "code",
      "metadata": {
        "colab": {
          "base_uri": "https://localhost:8080/"
        },
        "id": "IxCXL94fkVqw",
        "outputId": "48ad96e5-9b37-44a4-8624-e13dab9aa70f"
      },
      "source": [
        "# Compile the model\n",
        "adam = optimizers.Adam(lr=0.0005)\n",
        "model.compile(optimizer=adam, loss='mse',metrics=['mae','mse'])"
      ],
      "execution_count": 21,
      "outputs": [
        {
          "output_type": "stream",
          "name": "stderr",
          "text": [
            "/usr/local/lib/python3.7/dist-packages/keras/optimizer_v2/optimizer_v2.py:356: UserWarning: The `lr` argument is deprecated, use `learning_rate` instead.\n",
            "  \"The `lr` argument is deprecated, use `learning_rate` instead.\")\n"
          ]
        }
      ]
    },
    {
      "cell_type": "code",
      "metadata": {
        "colab": {
          "base_uri": "https://localhost:8080/"
        },
        "id": "Jc3XZZDSkVqx",
        "outputId": "d54d55f6-3529-4722-b259-dc9e3c9316cb"
      },
      "source": [
        "# Start Training\n",
        "history = model.fit(x=lixil_train, y=y_train, batch_size=64, epochs=50, shuffle=True, validation_split=0.2)\n"
      ],
      "execution_count": 22,
      "outputs": [
        {
          "output_type": "stream",
          "name": "stdout",
          "text": [
            "Epoch 1/50\n",
            "23/23 [==============================] - 3s 30ms/step - loss: 1.7836 - mae: 1.2198 - mse: 1.7836 - val_loss: 2.0496 - val_mae: 1.3895 - val_mse: 2.0496\n",
            "Epoch 2/50\n",
            "23/23 [==============================] - 0s 7ms/step - loss: 0.3760 - mae: 0.4981 - mse: 0.3760 - val_loss: 0.1153 - val_mae: 0.2602 - val_mse: 0.1153\n",
            "Epoch 3/50\n",
            "23/23 [==============================] - 0s 7ms/step - loss: 0.1498 - mae: 0.3085 - mse: 0.1498 - val_loss: 0.1245 - val_mae: 0.2942 - val_mse: 0.1245\n",
            "Epoch 4/50\n",
            "23/23 [==============================] - 0s 6ms/step - loss: 0.0953 - mae: 0.2393 - mse: 0.0953 - val_loss: 0.0429 - val_mae: 0.1538 - val_mse: 0.0429\n",
            "Epoch 5/50\n",
            "23/23 [==============================] - 0s 6ms/step - loss: 0.0554 - mae: 0.1778 - mse: 0.0554 - val_loss: 0.0278 - val_mae: 0.1300 - val_mse: 0.0278\n",
            "Epoch 6/50\n",
            "23/23 [==============================] - 0s 5ms/step - loss: 0.0447 - mae: 0.1628 - mse: 0.0447 - val_loss: 0.0248 - val_mae: 0.1243 - val_mse: 0.0248\n",
            "Epoch 7/50\n",
            "23/23 [==============================] - 0s 6ms/step - loss: 0.0389 - mae: 0.1535 - mse: 0.0389 - val_loss: 0.0221 - val_mae: 0.1151 - val_mse: 0.0221\n",
            "Epoch 8/50\n",
            "23/23 [==============================] - 0s 6ms/step - loss: 0.0338 - mae: 0.1448 - mse: 0.0338 - val_loss: 0.0201 - val_mae: 0.1089 - val_mse: 0.0201\n",
            "Epoch 9/50\n",
            "23/23 [==============================] - 0s 6ms/step - loss: 0.0330 - mae: 0.1401 - mse: 0.0330 - val_loss: 0.0203 - val_mae: 0.1121 - val_mse: 0.0203\n",
            "Epoch 10/50\n",
            "23/23 [==============================] - 0s 5ms/step - loss: 0.0300 - mae: 0.1342 - mse: 0.0300 - val_loss: 0.0205 - val_mae: 0.1136 - val_mse: 0.0205\n",
            "Epoch 11/50\n",
            "23/23 [==============================] - 0s 5ms/step - loss: 0.0265 - mae: 0.1267 - mse: 0.0265 - val_loss: 0.0180 - val_mae: 0.1049 - val_mse: 0.0180\n",
            "Epoch 12/50\n",
            "23/23 [==============================] - 0s 6ms/step - loss: 0.0278 - mae: 0.1304 - mse: 0.0278 - val_loss: 0.0180 - val_mae: 0.1057 - val_mse: 0.0180\n",
            "Epoch 13/50\n",
            "23/23 [==============================] - 0s 6ms/step - loss: 0.0259 - mae: 0.1241 - mse: 0.0259 - val_loss: 0.0174 - val_mae: 0.1036 - val_mse: 0.0174\n",
            "Epoch 14/50\n",
            "23/23 [==============================] - 0s 6ms/step - loss: 0.0249 - mae: 0.1231 - mse: 0.0249 - val_loss: 0.0182 - val_mae: 0.1068 - val_mse: 0.0182\n",
            "Epoch 15/50\n",
            "23/23 [==============================] - 0s 5ms/step - loss: 0.0238 - mae: 0.1183 - mse: 0.0238 - val_loss: 0.0154 - val_mae: 0.0952 - val_mse: 0.0154\n",
            "Epoch 16/50\n",
            "23/23 [==============================] - 0s 5ms/step - loss: 0.0243 - mae: 0.1193 - mse: 0.0243 - val_loss: 0.0149 - val_mae: 0.0920 - val_mse: 0.0149\n",
            "Epoch 17/50\n",
            "23/23 [==============================] - 0s 6ms/step - loss: 0.0230 - mae: 0.1173 - mse: 0.0230 - val_loss: 0.0149 - val_mae: 0.0941 - val_mse: 0.0149\n",
            "Epoch 18/50\n",
            "23/23 [==============================] - 0s 5ms/step - loss: 0.0220 - mae: 0.1162 - mse: 0.0220 - val_loss: 0.0150 - val_mae: 0.0951 - val_mse: 0.0150\n",
            "Epoch 19/50\n",
            "23/23 [==============================] - 0s 5ms/step - loss: 0.0231 - mae: 0.1179 - mse: 0.0231 - val_loss: 0.0138 - val_mae: 0.0900 - val_mse: 0.0138\n",
            "Epoch 20/50\n",
            "23/23 [==============================] - 0s 6ms/step - loss: 0.0211 - mae: 0.1122 - mse: 0.0211 - val_loss: 0.0145 - val_mae: 0.0940 - val_mse: 0.0145\n",
            "Epoch 21/50\n",
            "23/23 [==============================] - 0s 6ms/step - loss: 0.0212 - mae: 0.1117 - mse: 0.0212 - val_loss: 0.0140 - val_mae: 0.0920 - val_mse: 0.0140\n",
            "Epoch 22/50\n",
            "23/23 [==============================] - 0s 6ms/step - loss: 0.0200 - mae: 0.1071 - mse: 0.0200 - val_loss: 0.0133 - val_mae: 0.0890 - val_mse: 0.0133\n",
            "Epoch 23/50\n",
            "23/23 [==============================] - 0s 5ms/step - loss: 0.0200 - mae: 0.1094 - mse: 0.0200 - val_loss: 0.0133 - val_mae: 0.0890 - val_mse: 0.0133\n",
            "Epoch 24/50\n",
            "23/23 [==============================] - 0s 6ms/step - loss: 0.0196 - mae: 0.1092 - mse: 0.0196 - val_loss: 0.0137 - val_mae: 0.0909 - val_mse: 0.0137\n",
            "Epoch 25/50\n",
            "23/23 [==============================] - 0s 5ms/step - loss: 0.0187 - mae: 0.1037 - mse: 0.0187 - val_loss: 0.0120 - val_mae: 0.0824 - val_mse: 0.0120\n",
            "Epoch 26/50\n",
            "23/23 [==============================] - 0s 6ms/step - loss: 0.0195 - mae: 0.1083 - mse: 0.0195 - val_loss: 0.0122 - val_mae: 0.0844 - val_mse: 0.0122\n",
            "Epoch 27/50\n",
            "23/23 [==============================] - 0s 5ms/step - loss: 0.0196 - mae: 0.1094 - mse: 0.0196 - val_loss: 0.0119 - val_mae: 0.0835 - val_mse: 0.0119\n",
            "Epoch 28/50\n",
            "23/23 [==============================] - 0s 6ms/step - loss: 0.0186 - mae: 0.1050 - mse: 0.0186 - val_loss: 0.0138 - val_mae: 0.0923 - val_mse: 0.0138\n",
            "Epoch 29/50\n",
            "23/23 [==============================] - 0s 5ms/step - loss: 0.0187 - mae: 0.1063 - mse: 0.0187 - val_loss: 0.0125 - val_mae: 0.0864 - val_mse: 0.0125\n",
            "Epoch 30/50\n",
            "23/23 [==============================] - 0s 6ms/step - loss: 0.0184 - mae: 0.1042 - mse: 0.0184 - val_loss: 0.0110 - val_mae: 0.0791 - val_mse: 0.0110\n",
            "Epoch 31/50\n",
            "23/23 [==============================] - 0s 5ms/step - loss: 0.0187 - mae: 0.1041 - mse: 0.0187 - val_loss: 0.0107 - val_mae: 0.0777 - val_mse: 0.0107\n",
            "Epoch 32/50\n",
            "23/23 [==============================] - 0s 5ms/step - loss: 0.0187 - mae: 0.1053 - mse: 0.0187 - val_loss: 0.0110 - val_mae: 0.0798 - val_mse: 0.0110\n",
            "Epoch 33/50\n",
            "23/23 [==============================] - 0s 6ms/step - loss: 0.0189 - mae: 0.1068 - mse: 0.0189 - val_loss: 0.0106 - val_mae: 0.0775 - val_mse: 0.0106\n",
            "Epoch 34/50\n",
            "23/23 [==============================] - 0s 6ms/step - loss: 0.0171 - mae: 0.0997 - mse: 0.0171 - val_loss: 0.0103 - val_mae: 0.0759 - val_mse: 0.0103\n",
            "Epoch 35/50\n",
            "23/23 [==============================] - 0s 5ms/step - loss: 0.0169 - mae: 0.1013 - mse: 0.0169 - val_loss: 0.0102 - val_mae: 0.0753 - val_mse: 0.0102\n",
            "Epoch 36/50\n",
            "23/23 [==============================] - 0s 5ms/step - loss: 0.0175 - mae: 0.1017 - mse: 0.0175 - val_loss: 0.0100 - val_mae: 0.0749 - val_mse: 0.0100\n",
            "Epoch 37/50\n",
            "23/23 [==============================] - 0s 5ms/step - loss: 0.0172 - mae: 0.1017 - mse: 0.0172 - val_loss: 0.0098 - val_mae: 0.0734 - val_mse: 0.0098\n",
            "Epoch 38/50\n",
            "23/23 [==============================] - 0s 6ms/step - loss: 0.0165 - mae: 0.0976 - mse: 0.0165 - val_loss: 0.0103 - val_mae: 0.0770 - val_mse: 0.0103\n",
            "Epoch 39/50\n",
            "23/23 [==============================] - 0s 6ms/step - loss: 0.0160 - mae: 0.0974 - mse: 0.0160 - val_loss: 0.0096 - val_mae: 0.0726 - val_mse: 0.0096\n",
            "Epoch 40/50\n",
            "23/23 [==============================] - 0s 6ms/step - loss: 0.0163 - mae: 0.0987 - mse: 0.0163 - val_loss: 0.0097 - val_mae: 0.0724 - val_mse: 0.0097\n",
            "Epoch 41/50\n",
            "23/23 [==============================] - 0s 6ms/step - loss: 0.0172 - mae: 0.0997 - mse: 0.0172 - val_loss: 0.0094 - val_mae: 0.0716 - val_mse: 0.0094\n",
            "Epoch 42/50\n",
            "23/23 [==============================] - 0s 5ms/step - loss: 0.0153 - mae: 0.0951 - mse: 0.0153 - val_loss: 0.0096 - val_mae: 0.0734 - val_mse: 0.0096\n",
            "Epoch 43/50\n",
            "23/23 [==============================] - 0s 6ms/step - loss: 0.0153 - mae: 0.0957 - mse: 0.0153 - val_loss: 0.0097 - val_mae: 0.0743 - val_mse: 0.0097\n",
            "Epoch 44/50\n",
            "23/23 [==============================] - 0s 6ms/step - loss: 0.0157 - mae: 0.0952 - mse: 0.0157 - val_loss: 0.0092 - val_mae: 0.0710 - val_mse: 0.0092\n",
            "Epoch 45/50\n",
            "23/23 [==============================] - 0s 5ms/step - loss: 0.0159 - mae: 0.0965 - mse: 0.0159 - val_loss: 0.0092 - val_mae: 0.0714 - val_mse: 0.0092\n",
            "Epoch 46/50\n",
            "23/23 [==============================] - 0s 6ms/step - loss: 0.0156 - mae: 0.0962 - mse: 0.0156 - val_loss: 0.0089 - val_mae: 0.0698 - val_mse: 0.0089\n",
            "Epoch 47/50\n",
            "23/23 [==============================] - 0s 6ms/step - loss: 0.0163 - mae: 0.0974 - mse: 0.0163 - val_loss: 0.0091 - val_mae: 0.0710 - val_mse: 0.0091\n",
            "Epoch 48/50\n",
            "23/23 [==============================] - 0s 6ms/step - loss: 0.0153 - mae: 0.0937 - mse: 0.0153 - val_loss: 0.0107 - val_mae: 0.0803 - val_mse: 0.0107\n",
            "Epoch 49/50\n",
            "23/23 [==============================] - 0s 6ms/step - loss: 0.0151 - mae: 0.0947 - mse: 0.0151 - val_loss: 0.0087 - val_mae: 0.0687 - val_mse: 0.0087\n",
            "Epoch 50/50\n",
            "23/23 [==============================] - 0s 5ms/step - loss: 0.0142 - mae: 0.0910 - mse: 0.0142 - val_loss: 0.0087 - val_mae: 0.0679 - val_mse: 0.0087\n"
          ]
        }
      ]
    },
    {
      "cell_type": "code",
      "metadata": {
        "id": "Y8ebIK5zG7D1"
      },
      "source": [
        "def plot_training(history):\n",
        "    \"\"\"\n",
        "    Function to plot training history\n",
        "    \"\"\"\n",
        "    print(history.history.keys())\n",
        "\n",
        "    #  \"mae\"\n",
        "    plt.plot(history.history['mae'])\n",
        "    plt.plot(history.history['val_mae'])\n",
        "    plt.title('model mae')\n",
        "    plt.ylabel('mae')\n",
        "    plt.xlabel('epoch')\n",
        "    plt.legend(['train', 'validation'], loc='upper left')\n",
        "    plt.show()\n",
        "    \n",
        "    # \"mse\"\n",
        "    plt.plot(history.history['mse'])\n",
        "    plt.plot(history.history['val_mse'])\n",
        "    plt.title('model mse')\n",
        "    plt.ylabel('loss')\n",
        "    plt.xlabel('epoch')\n",
        "    plt.legend(['train', 'validation'], loc='upper left')\n",
        "    plt.show()"
      ],
      "execution_count": 23,
      "outputs": []
    },
    {
      "cell_type": "code",
      "metadata": {
        "colab": {
          "base_uri": "https://localhost:8080/",
          "height": 591
        },
        "id": "tKuSINcmHAt6",
        "outputId": "d2039067-bfa9-4fa3-8981-cfee810f93bf"
      },
      "source": [
        "# plot training performance over the epochs\n",
        "plot_training(history)"
      ],
      "execution_count": 24,
      "outputs": [
        {
          "output_type": "stream",
          "name": "stdout",
          "text": [
            "dict_keys(['loss', 'mae', 'mse', 'val_loss', 'val_mae', 'val_mse'])\n"
          ]
        },
        {
          "output_type": "display_data",
          "data": {
            "image/png": "[encoded data removed]",
            "text/plain": [
              "<Figure size 432x288 with 1 Axes>"
            ]
          },
          "metadata": {
            "needs_background": "light"
          }
        },
        {
          "output_type": "display_data",
          "data": {
            "image/png": "[encoded data removed]",
            "text/plain": [
              "<Figure size 432x288 with 1 Axes>"
            ]
          },
          "metadata": {
            "needs_background": "light"
          }
        }
      ]
    },
    {
      "cell_type": "markdown",
      "metadata": {
        "id": "CytckU1TkVqy"
      },
      "source": [
        "#### 3. Testing the Model's Performance"
      ]
    },
    {
      "cell_type": "code",
      "metadata": {
        "colab": {
          "base_uri": "https://localhost:8080/"
        },
        "id": "RF2iGwOlG-O0",
        "outputId": "92664e89-63ea-4d20-987e-b17da29c8d04"
      },
      "source": [
        "evaluation = model.evaluate(lixil_test, y_test)\n",
        "print(evaluation)"
      ],
      "execution_count": 25,
      "outputs": [
        {
          "output_type": "stream",
          "name": "stdout",
          "text": [
            "19/19 [==============================] - 0s 3ms/step - loss: 0.2007 - mae: 0.3272 - mse: 0.2007\n",
            "[0.20071929693222046, 0.32724133133888245, 0.20071929693222046]\n"
          ]
        }
      ]
    },
    {
      "cell_type": "code",
      "metadata": {
        "colab": {
          "base_uri": "https://localhost:8080/"
        },
        "id": "7JqQltFokVqz",
        "outputId": "9fbd3f88-c804-46e8-a719-651d2350e6fe"
      },
      "source": [
        "y_predicted = model.predict(lixil_test)\n",
        "\n",
        "# model.predict returns normalised values\n",
        "# now we scale them back up using the y_scaler from before\n",
        "y_predicted = y_normaliser.inverse_transform(y_predicted)\n",
        "\n",
        "# Calculate mean suare error and R2 score \n",
        "mse = mean_squared_error(unscaled_y_test,y_predicted)\n",
        "r2= r2_score(unscaled_y_test,y_predicted)\n",
        "\n",
        "print(r2)\n",
        "print(mse)"
      ],
      "execution_count": 26,
      "outputs": [
        {
          "output_type": "stream",
          "name": "stdout",
          "text": [
            "0.8777821560971132\n",
            "15.479938846945739\n"
          ]
        }
      ]
    },
    {
      "cell_type": "markdown",
      "metadata": {
        "id": "xT4FrV8H0nwH"
      },
      "source": [
        "R2 score is the goodness of Fit, and shows the model's capability to explain the variance of the actual data. So our model so far can justify 87.7% of variance. Also, we have achieved a Mean squared error of 15.47. Lets visualize the result obtained."
      ]
    },
    {
      "cell_type": "markdown",
      "metadata": {
        "id": "h28BkKnVkVq2"
      },
      "source": [
        "#### 4. Visualize our Results"
      ]
    },
    {
      "cell_type": "code",
      "metadata": {
        "id": "fTzSEKcCkVq4"
      },
      "source": [
        "def vizResult(unscaled_y_test,y_predicted):\n",
        "  \"\"\"\n",
        "  Function to visualize the result of actual closing price and predicted closing price\n",
        "  \"\"\"\n",
        "  plt.gcf().set_size_inches(10, 6, forward=True)\n",
        "\n",
        "  start = 0\n",
        "  end = -1\n",
        "\n",
        "  real = plt.plot(unscaled_y_test[start:end], label='real closing price')\n",
        "  pred = plt.plot(y_predicted[start:end], label='predicted closing price')\n",
        "\n",
        "  plt.legend(['Real', 'Predicted'])\n",
        "\n",
        "  plt.show()"
      ],
      "execution_count": 27,
      "outputs": []
    },
    {
      "cell_type": "code",
      "metadata": {
        "colab": {
          "base_uri": "https://localhost:8080/",
          "height": 374
        },
        "id": "NlPWaQ0ikF8o",
        "outputId": "09c7529d-47bb-4aa6-be13-95ebb02c58ac"
      },
      "source": [
        "# visualize the results from LSTM model\n",
        "vizResult(unscaled_y_test,y_predicted)"
      ],
      "execution_count": 28,
      "outputs": [
        {
          "output_type": "display_data",
          "data": {
            "image/png": "[encoded data removed]",
            "text/plain": [
              "<Figure size 720x432 with 1 Axes>"
            ]
          },
          "metadata": {
            "needs_background": "light"
          }
        }
      ]
    },
    {
      "cell_type": "code",
      "metadata": {
        "colab": {
          "base_uri": "https://localhost:8080/",
          "height": 374
        },
        "id": "kKxWTsqWbBrC",
        "outputId": "2a549086-5948-4343-d924-8a07617540dc"
      },
      "source": [
        "# Now, lets see the ideal error vs the error obtained from our model\n",
        "plt.gcf().set_size_inches(8, 6, forward=True)\n",
        "\n",
        "start = 0\n",
        "end = -1\n",
        "\n",
        "err = plt.plot(y_predicted[start:end]-unscaled_y_test[start:end], label='Error LSTM')\n",
        "ideal = plt.axhline(y=0.0, color='r', linestyle='-')\n",
        "plt.legend(['error', 'ideal'])\n",
        "\n",
        "plt.show()"
      ],
      "execution_count": 29,
      "outputs": [
        {
          "output_type": "display_data",
          "data": {
            "image/png": "[encoded data removed]",
            "text/plain": [
              "<Figure size 576x432 with 1 Axes>"
            ]
          },
          "metadata": {
            "needs_background": "light"
          }
        }
      ]
    },
    {
      "cell_type": "markdown",
      "metadata": {
        "id": "_OlhV0DB1L9E"
      },
      "source": [
        "\n",
        "\n",
        "1.   The first plot shows the actual vs. predicted closing price. Although the prediction line is following the actual closing price at the later part,it fails to capture the trend at the begining, and the prediction curve is smooth.So, there is a room left for better prediction.\n",
        "2.   The next plot dives little deeper into the error analysis. Error values change in range [+12.5,-4]. \n",
        "\n"
      ]
    },
    {
      "cell_type": "markdown",
      "metadata": {
        "id": "w_6FTnFdkVq5"
      },
      "source": [
        "## B. Model Improvements"
      ]
    },
    {
      "cell_type": "markdown",
      "metadata": {
        "id": "bwYkAeu62ndE"
      },
      "source": [
        "Along with daily trading data, now lets try to integrate some technical indicators. Authors in [The Application of Stock Index Price Prediction with\n",
        "Neural Network](https://www.mdpi.com/2297-8747/25/3/53), have elaborated about MACD as an important Technical Indicator.\n",
        "\n",
        "`MACD or Moving average convergence divergence: Displays trend following\n",
        "characteristics and momentum characteristics.The MACD signals trend changes and indicates the start of the new trend direction. High values indicate overbought conditions, low values indicate oversold conditions.`\n",
        "\n",
        "Also, Lets integrate SMA as a technical indicator.\n",
        "\n",
        "`SMA or Simple Moving Averages are used to smooth the data in an array to help eliminate noise and identify trends. The SMA is literally the simplest form of a moving average. Each output value is the average of the previous n values.`\n",
        "\n"
      ]
    },
    {
      "cell_type": "markdown",
      "metadata": {
        "id": "dPgtn5X_6B2o"
      },
      "source": [
        "### Creation of Technical Indicators"
      ]
    },
    {
      "cell_type": "markdown",
      "metadata": {
        "id": "2QYqxFWSlL6Z"
      },
      "source": [
        "Lets calculate MACD and SMA. The formulae are taken from [here:MACD](https://www.investopedia.com/terms/m/macd.asp) and [here:EMA](https://www.investopedia.com/ask/answers/122314/what-exponential-moving-average-ema-formula-and-how-ema-calculated.asp)"
      ]
    },
    {
      "cell_type": "code",
      "metadata": {
        "id": "VvUp7jSMkVqZ"
      },
      "source": [
        "def calc_ema(values, time_period):\n",
        "    \"\"\"\n",
        "    Function to calculate exponential moving average\n",
        "    \"\"\"\n",
        "    sma = np.mean(values[:, 3])\n",
        "    ema_values = [sma]\n",
        "    k = 2 / (1 + time_period)\n",
        "    for i in range(len(his) - time_period, len(his)):\n",
        "        close = his[i][3]\n",
        "        ema_values.append(close * k + ema_values[-1] * (1 - k))\n",
        "    return ema_values[-1]"
      ],
      "execution_count": 30,
      "outputs": []
    },
    {
      "cell_type": "code",
      "metadata": {
        "id": "uG5pvXxPkVqa"
      },
      "source": [
        "technical_indicators = []\n",
        "for his in lixil_histories:\n",
        "    \n",
        "    # create sma indicator\n",
        "    sma = np.mean(his[:, 3])\n",
        "\n",
        "    # create macd indicator\n",
        "    macd = calc_ema(his, 12) - calc_ema(his, 26)\n",
        "    technical_indicators.append(np.array([sma,macd]))\n",
        "\n",
        "technical_indicators = np.array(technical_indicators)\n",
        "\n",
        "# normalize the indicators \n",
        "tech_ind_scaler = preprocessing.MinMaxScaler()\n",
        "technical_indicators_normalised = tech_ind_scaler.fit_transform(technical_indicators)"
      ],
      "execution_count": 31,
      "outputs": []
    },
    {
      "cell_type": "markdown",
      "metadata": {
        "id": "x6PecBRW6Jgd"
      },
      "source": [
        "#### Train-test split of Technical Indicators"
      ]
    },
    {
      "cell_type": "code",
      "metadata": {
        "colab": {
          "base_uri": "https://localhost:8080/"
        },
        "id": "QaBbhJKxkVq5",
        "outputId": "ece16e16-22a6-4643-aaec-825af334bc5b"
      },
      "source": [
        "n = int(lixil_histories.shape[0] * test_split)\n",
        "\n",
        "tech_ind_train = technical_indicators[:n]\n",
        "\n",
        "tech_ind_test = technical_indicators[n:]\n",
        "\n",
        "print(tech_ind_train.shape)\n",
        "print(tech_ind_test.shape)"
      ],
      "execution_count": 32,
      "outputs": [
        {
          "output_type": "stream",
          "name": "stdout",
          "text": [
            "(1806, 2)\n",
            "(602, 2)\n"
          ]
        }
      ]
    },
    {
      "cell_type": "markdown",
      "metadata": {
        "id": "iOTlk9HykVq6"
      },
      "source": [
        "### Train Model with Technical Indicators"
      ]
    },
    {
      "cell_type": "markdown",
      "metadata": {
        "id": "quAYcA4E7Nup"
      },
      "source": [
        "#### 1. Create a model"
      ]
    },
    {
      "cell_type": "markdown",
      "metadata": {
        "id": "mJsAuW-8Z8bv"
      },
      "source": [
        "Now, lets create a new branch with Technical Indicators, and concate that with our previous LSTM architecture, and finally predict the closing price."
      ]
    },
    {
      "cell_type": "code",
      "metadata": {
        "id": "3QA40mJ0kVq6"
      },
      "source": [
        "\n",
        "def lstm_ti_model():\n",
        "  # Initialize two sets of inputs\n",
        "  lstm_input = Input(shape=(history_points, 5), name='lstm_input')\n",
        "  dense_input = Input(shape=(technical_indicators.shape[1],), name='tech_input')\n",
        "\n",
        "  # the first branch works on the 1st input\n",
        "  x = LSTM(50, name='lstm_0')(lstm_input)\n",
        "  x = Dropout(0.2, name='lstm_dropout_0')(x)\n",
        "  lstm_branch = Model(inputs=lstm_input, outputs=x)\n",
        "\n",
        "  # the second branch opreates on the 2nd input\n",
        "  y = Dense(20, name='tech_dense_0')(dense_input)\n",
        "  y = Activation(\"relu\", name='tech_relu_0')(y)\n",
        "  y = Dropout(0.2, name='tech_dropout_0')(y)\n",
        "  technical_indicators_branch = Model(inputs=dense_input, outputs=y)\n",
        "\n",
        "  # combine the output from two branches\n",
        "  combined = concatenate([lstm_branch.output, technical_indicators_branch.output], name='concatenate')\n",
        "\n",
        "  z = Dense(64, activation=\"sigmoid\", name='dense_pooling')(combined)\n",
        "  z = Dense(1, activation=\"linear\", name='dense_out')(z)\n",
        "\n",
        "  # our model will accept the inputs of the two branches and then output a single value\n",
        "  model = Model(inputs=[lstm_branch.input, technical_indicators_branch.input], outputs=z)\n",
        "\n",
        "  return model\n",
        "\n",
        "\n",
        "model = lstm_ti_model()\n",
        "\n"
      ],
      "execution_count": 33,
      "outputs": []
    },
    {
      "cell_type": "markdown",
      "metadata": {
        "id": "vESvSkjY7RDj"
      },
      "source": [
        "#### 2. Compile and train model"
      ]
    },
    {
      "cell_type": "code",
      "metadata": {
        "colab": {
          "base_uri": "https://localhost:8080/"
        },
        "id": "xWx7VJphkVq7",
        "outputId": "797d3d0e-326e-417e-e593-1c5dc71f044a"
      },
      "source": [
        "# Compile the Model\n",
        "adam = optimizers.Adam(lr=0.0005)\n",
        "model.compile(optimizer=adam, loss='mse', metrics=['mae','mse'])"
      ],
      "execution_count": 34,
      "outputs": [
        {
          "output_type": "stream",
          "name": "stderr",
          "text": [
            "/usr/local/lib/python3.7/dist-packages/keras/optimizer_v2/optimizer_v2.py:356: UserWarning: The `lr` argument is deprecated, use `learning_rate` instead.\n",
            "  \"The `lr` argument is deprecated, use `learning_rate` instead.\")\n"
          ]
        }
      ]
    },
    {
      "cell_type": "code",
      "metadata": {
        "colab": {
          "base_uri": "https://localhost:8080/"
        },
        "id": "pmetPTlpkVq8",
        "outputId": "64eb8dd8-2177-4ae3-f48b-31bdb8ecf0c7"
      },
      "source": [
        "# Start Training with early stopping\n",
        "early_stopping = tf.keras.callbacks.EarlyStopping(monitor='val_loss',verbose=1,patience=15,mode='min',restore_best_weights=True)\n",
        "\n",
        "history_new_model= model.fit(x=[lixil_train, tech_ind_train], y=y_train, batch_size=32, epochs=100, shuffle=True, validation_split=0.2,callbacks=[early_stopping])"
      ],
      "execution_count": 35,
      "outputs": [
        {
          "output_type": "stream",
          "name": "stdout",
          "text": [
            "Epoch 1/100\n",
            "46/46 [==============================] - 2s 14ms/step - loss: 0.6013 - mae: 0.6317 - mse: 0.6013 - val_loss: 0.1481 - val_mae: 0.2997 - val_mse: 0.1481\n",
            "Epoch 2/100\n",
            "46/46 [==============================] - 0s 6ms/step - loss: 0.1023 - mae: 0.2477 - mse: 0.1023 - val_loss: 0.1059 - val_mae: 0.2568 - val_mse: 0.1059\n",
            "Epoch 3/100\n",
            "46/46 [==============================] - 0s 6ms/step - loss: 0.0555 - mae: 0.1799 - mse: 0.0555 - val_loss: 0.0368 - val_mae: 0.1471 - val_mse: 0.0368\n",
            "Epoch 4/100\n",
            "46/46 [==============================] - 0s 5ms/step - loss: 0.0356 - mae: 0.1452 - mse: 0.0356 - val_loss: 0.0292 - val_mae: 0.1304 - val_mse: 0.0292\n",
            "Epoch 5/100\n",
            "46/46 [==============================] - 0s 5ms/step - loss: 0.0285 - mae: 0.1301 - mse: 0.0285 - val_loss: 0.0292 - val_mae: 0.1307 - val_mse: 0.0292\n",
            "Epoch 6/100\n",
            "46/46 [==============================] - 0s 5ms/step - loss: 0.0263 - mae: 0.1245 - mse: 0.0263 - val_loss: 0.0257 - val_mae: 0.1235 - val_mse: 0.0257\n",
            "Epoch 7/100\n",
            "46/46 [==============================] - 0s 6ms/step - loss: 0.0249 - mae: 0.1195 - mse: 0.0249 - val_loss: 0.0262 - val_mae: 0.1274 - val_mse: 0.0262\n",
            "Epoch 8/100\n",
            "46/46 [==============================] - 0s 5ms/step - loss: 0.0231 - mae: 0.1179 - mse: 0.0231 - val_loss: 0.0231 - val_mae: 0.1159 - val_mse: 0.0231\n",
            "Epoch 9/100\n",
            "46/46 [==============================] - 0s 5ms/step - loss: 0.0218 - mae: 0.1156 - mse: 0.0218 - val_loss: 0.0250 - val_mae: 0.1252 - val_mse: 0.0250\n",
            "Epoch 10/100\n",
            "46/46 [==============================] - 0s 5ms/step - loss: 0.0219 - mae: 0.1146 - mse: 0.0219 - val_loss: 0.0210 - val_mae: 0.1133 - val_mse: 0.0210\n",
            "Epoch 11/100\n",
            "46/46 [==============================] - 0s 6ms/step - loss: 0.0201 - mae: 0.1083 - mse: 0.0201 - val_loss: 0.0209 - val_mae: 0.1121 - val_mse: 0.0209\n",
            "Epoch 12/100\n",
            "46/46 [==============================] - 0s 5ms/step - loss: 0.0190 - mae: 0.1063 - mse: 0.0190 - val_loss: 0.0185 - val_mae: 0.1065 - val_mse: 0.0185\n",
            "Epoch 13/100\n",
            "46/46 [==============================] - 0s 5ms/step - loss: 0.0189 - mae: 0.1059 - mse: 0.0189 - val_loss: 0.0157 - val_mae: 0.0958 - val_mse: 0.0157\n",
            "Epoch 14/100\n",
            "46/46 [==============================] - 0s 5ms/step - loss: 0.0178 - mae: 0.1033 - mse: 0.0178 - val_loss: 0.0161 - val_mae: 0.0980 - val_mse: 0.0161\n",
            "Epoch 15/100\n",
            "46/46 [==============================] - 0s 5ms/step - loss: 0.0173 - mae: 0.1004 - mse: 0.0173 - val_loss: 0.0149 - val_mae: 0.0935 - val_mse: 0.0149\n",
            "Epoch 16/100\n",
            "46/46 [==============================] - 0s 5ms/step - loss: 0.0167 - mae: 0.0993 - mse: 0.0167 - val_loss: 0.0152 - val_mae: 0.0952 - val_mse: 0.0152\n",
            "Epoch 17/100\n",
            "46/46 [==============================] - 0s 5ms/step - loss: 0.0169 - mae: 0.0995 - mse: 0.0169 - val_loss: 0.0138 - val_mae: 0.0902 - val_mse: 0.0138\n",
            "Epoch 18/100\n",
            "46/46 [==============================] - 0s 5ms/step - loss: 0.0168 - mae: 0.0993 - mse: 0.0168 - val_loss: 0.0139 - val_mae: 0.0916 - val_mse: 0.0139\n",
            "Epoch 19/100\n",
            "46/46 [==============================] - 0s 6ms/step - loss: 0.0157 - mae: 0.0957 - mse: 0.0157 - val_loss: 0.0142 - val_mae: 0.0933 - val_mse: 0.0142\n",
            "Epoch 20/100\n",
            "46/46 [==============================] - 0s 5ms/step - loss: 0.0159 - mae: 0.0946 - mse: 0.0159 - val_loss: 0.0128 - val_mae: 0.0876 - val_mse: 0.0128\n",
            "Epoch 21/100\n",
            "46/46 [==============================] - 0s 6ms/step - loss: 0.0156 - mae: 0.0937 - mse: 0.0156 - val_loss: 0.0124 - val_mae: 0.0856 - val_mse: 0.0124\n",
            "Epoch 22/100\n",
            "46/46 [==============================] - 0s 6ms/step - loss: 0.0152 - mae: 0.0938 - mse: 0.0152 - val_loss: 0.0115 - val_mae: 0.0810 - val_mse: 0.0115\n",
            "Epoch 23/100\n",
            "46/46 [==============================] - 0s 6ms/step - loss: 0.0151 - mae: 0.0943 - mse: 0.0151 - val_loss: 0.0128 - val_mae: 0.0862 - val_mse: 0.0128\n",
            "Epoch 24/100\n",
            "46/46 [==============================] - 0s 6ms/step - loss: 0.0144 - mae: 0.0919 - mse: 0.0144 - val_loss: 0.0124 - val_mae: 0.0866 - val_mse: 0.0124\n",
            "Epoch 25/100\n",
            "46/46 [==============================] - 0s 6ms/step - loss: 0.0141 - mae: 0.0898 - mse: 0.0141 - val_loss: 0.0117 - val_mae: 0.0833 - val_mse: 0.0117\n",
            "Epoch 26/100\n",
            "46/46 [==============================] - 0s 6ms/step - loss: 0.0134 - mae: 0.0882 - mse: 0.0134 - val_loss: 0.0112 - val_mae: 0.0788 - val_mse: 0.0112\n",
            "Epoch 27/100\n",
            "46/46 [==============================] - 0s 6ms/step - loss: 0.0135 - mae: 0.0867 - mse: 0.0135 - val_loss: 0.0101 - val_mae: 0.0750 - val_mse: 0.0101\n",
            "Epoch 28/100\n",
            "46/46 [==============================] - 0s 5ms/step - loss: 0.0127 - mae: 0.0855 - mse: 0.0127 - val_loss: 0.0105 - val_mae: 0.0781 - val_mse: 0.0105\n",
            "Epoch 29/100\n",
            "46/46 [==============================] - 0s 6ms/step - loss: 0.0132 - mae: 0.0879 - mse: 0.0132 - val_loss: 0.0128 - val_mae: 0.0889 - val_mse: 0.0128\n",
            "Epoch 30/100\n",
            "46/46 [==============================] - 0s 6ms/step - loss: 0.0130 - mae: 0.0876 - mse: 0.0130 - val_loss: 0.0101 - val_mae: 0.0768 - val_mse: 0.0101\n",
            "Epoch 31/100\n",
            "46/46 [==============================] - 0s 6ms/step - loss: 0.0125 - mae: 0.0846 - mse: 0.0125 - val_loss: 0.0096 - val_mae: 0.0726 - val_mse: 0.0096\n",
            "Epoch 32/100\n",
            "46/46 [==============================] - 0s 5ms/step - loss: 0.0129 - mae: 0.0866 - mse: 0.0129 - val_loss: 0.0097 - val_mae: 0.0744 - val_mse: 0.0097\n",
            "Epoch 33/100\n",
            "46/46 [==============================] - 0s 6ms/step - loss: 0.0127 - mae: 0.0861 - mse: 0.0127 - val_loss: 0.0092 - val_mae: 0.0704 - val_mse: 0.0092\n",
            "Epoch 34/100\n",
            "46/46 [==============================] - 0s 5ms/step - loss: 0.0127 - mae: 0.0847 - mse: 0.0127 - val_loss: 0.0091 - val_mae: 0.0698 - val_mse: 0.0091\n",
            "Epoch 35/100\n",
            "46/46 [==============================] - 0s 5ms/step - loss: 0.0121 - mae: 0.0825 - mse: 0.0121 - val_loss: 0.0092 - val_mae: 0.0705 - val_mse: 0.0092\n",
            "Epoch 36/100\n",
            "46/46 [==============================] - 0s 5ms/step - loss: 0.0120 - mae: 0.0829 - mse: 0.0120 - val_loss: 0.0093 - val_mae: 0.0711 - val_mse: 0.0093\n",
            "Epoch 37/100\n",
            "46/46 [==============================] - 0s 6ms/step - loss: 0.0123 - mae: 0.0841 - mse: 0.0123 - val_loss: 0.0102 - val_mae: 0.0773 - val_mse: 0.0102\n",
            "Epoch 38/100\n",
            "46/46 [==============================] - 0s 5ms/step - loss: 0.0121 - mae: 0.0844 - mse: 0.0121 - val_loss: 0.0096 - val_mae: 0.0739 - val_mse: 0.0096\n",
            "Epoch 39/100\n",
            "46/46 [==============================] - 0s 5ms/step - loss: 0.0117 - mae: 0.0822 - mse: 0.0117 - val_loss: 0.0100 - val_mae: 0.0769 - val_mse: 0.0100\n",
            "Epoch 40/100\n",
            "46/46 [==============================] - 0s 6ms/step - loss: 0.0114 - mae: 0.0813 - mse: 0.0114 - val_loss: 0.0089 - val_mae: 0.0705 - val_mse: 0.0089\n",
            "Epoch 41/100\n",
            "46/46 [==============================] - 0s 6ms/step - loss: 0.0117 - mae: 0.0818 - mse: 0.0117 - val_loss: 0.0099 - val_mae: 0.0756 - val_mse: 0.0099\n",
            "Epoch 42/100\n",
            "46/46 [==============================] - 0s 5ms/step - loss: 0.0118 - mae: 0.0823 - mse: 0.0118 - val_loss: 0.0100 - val_mae: 0.0764 - val_mse: 0.0100\n",
            "Epoch 43/100\n",
            "46/46 [==============================] - 0s 5ms/step - loss: 0.0126 - mae: 0.0843 - mse: 0.0126 - val_loss: 0.0084 - val_mae: 0.0665 - val_mse: 0.0084\n",
            "Epoch 44/100\n",
            "46/46 [==============================] - 0s 6ms/step - loss: 0.0114 - mae: 0.0817 - mse: 0.0114 - val_loss: 0.0092 - val_mae: 0.0701 - val_mse: 0.0092\n",
            "Epoch 45/100\n",
            "46/46 [==============================] - 0s 5ms/step - loss: 0.0115 - mae: 0.0828 - mse: 0.0115 - val_loss: 0.0085 - val_mae: 0.0668 - val_mse: 0.0085\n",
            "Epoch 46/100\n",
            "46/46 [==============================] - 0s 6ms/step - loss: 0.0118 - mae: 0.0819 - mse: 0.0118 - val_loss: 0.0090 - val_mae: 0.0709 - val_mse: 0.0090\n",
            "Epoch 47/100\n",
            "46/46 [==============================] - 0s 5ms/step - loss: 0.0119 - mae: 0.0826 - mse: 0.0119 - val_loss: 0.0088 - val_mae: 0.0701 - val_mse: 0.0088\n",
            "Epoch 48/100\n",
            "46/46 [==============================] - 0s 6ms/step - loss: 0.0112 - mae: 0.0809 - mse: 0.0112 - val_loss: 0.0083 - val_mae: 0.0660 - val_mse: 0.0083\n",
            "Epoch 49/100\n",
            "46/46 [==============================] - 0s 5ms/step - loss: 0.0113 - mae: 0.0808 - mse: 0.0113 - val_loss: 0.0080 - val_mae: 0.0648 - val_mse: 0.0080\n",
            "Epoch 50/100\n",
            "46/46 [==============================] - 0s 6ms/step - loss: 0.0113 - mae: 0.0812 - mse: 0.0113 - val_loss: 0.0084 - val_mae: 0.0677 - val_mse: 0.0084\n",
            "Epoch 51/100\n",
            "46/46 [==============================] - 0s 5ms/step - loss: 0.0114 - mae: 0.0803 - mse: 0.0114 - val_loss: 0.0084 - val_mae: 0.0670 - val_mse: 0.0084\n",
            "Epoch 52/100\n",
            "46/46 [==============================] - 0s 5ms/step - loss: 0.0114 - mae: 0.0811 - mse: 0.0114 - val_loss: 0.0082 - val_mae: 0.0652 - val_mse: 0.0082\n",
            "Epoch 53/100\n",
            "46/46 [==============================] - 0s 6ms/step - loss: 0.0119 - mae: 0.0827 - mse: 0.0119 - val_loss: 0.0086 - val_mae: 0.0684 - val_mse: 0.0086\n",
            "Epoch 54/100\n",
            "46/46 [==============================] - 0s 6ms/step - loss: 0.0112 - mae: 0.0799 - mse: 0.0112 - val_loss: 0.0090 - val_mae: 0.0711 - val_mse: 0.0090\n",
            "Epoch 55/100\n",
            "46/46 [==============================] - 0s 6ms/step - loss: 0.0115 - mae: 0.0798 - mse: 0.0115 - val_loss: 0.0079 - val_mae: 0.0636 - val_mse: 0.0079\n",
            "Epoch 56/100\n",
            "46/46 [==============================] - 0s 6ms/step - loss: 0.0114 - mae: 0.0796 - mse: 0.0114 - val_loss: 0.0083 - val_mae: 0.0662 - val_mse: 0.0083\n",
            "Epoch 57/100\n",
            "46/46 [==============================] - 0s 5ms/step - loss: 0.0111 - mae: 0.0797 - mse: 0.0111 - val_loss: 0.0084 - val_mae: 0.0672 - val_mse: 0.0084\n",
            "Epoch 58/100\n",
            "46/46 [==============================] - 0s 6ms/step - loss: 0.0111 - mae: 0.0802 - mse: 0.0111 - val_loss: 0.0081 - val_mae: 0.0648 - val_mse: 0.0081\n",
            "Epoch 59/100\n",
            "46/46 [==============================] - 0s 6ms/step - loss: 0.0105 - mae: 0.0780 - mse: 0.0105 - val_loss: 0.0091 - val_mae: 0.0718 - val_mse: 0.0091\n",
            "Epoch 60/100\n",
            "46/46 [==============================] - 0s 5ms/step - loss: 0.0113 - mae: 0.0798 - mse: 0.0113 - val_loss: 0.0089 - val_mae: 0.0708 - val_mse: 0.0089\n",
            "Epoch 61/100\n",
            "46/46 [==============================] - 0s 6ms/step - loss: 0.0113 - mae: 0.0796 - mse: 0.0113 - val_loss: 0.0081 - val_mae: 0.0651 - val_mse: 0.0081\n",
            "Epoch 62/100\n",
            "46/46 [==============================] - 0s 6ms/step - loss: 0.0109 - mae: 0.0803 - mse: 0.0109 - val_loss: 0.0078 - val_mae: 0.0633 - val_mse: 0.0078\n",
            "Epoch 63/100\n",
            "46/46 [==============================] - 0s 5ms/step - loss: 0.0114 - mae: 0.0813 - mse: 0.0114 - val_loss: 0.0076 - val_mae: 0.0623 - val_mse: 0.0076\n",
            "Epoch 64/100\n",
            "46/46 [==============================] - 0s 6ms/step - loss: 0.0111 - mae: 0.0802 - mse: 0.0111 - val_loss: 0.0078 - val_mae: 0.0631 - val_mse: 0.0078\n",
            "Epoch 65/100\n",
            "46/46 [==============================] - 0s 6ms/step - loss: 0.0111 - mae: 0.0799 - mse: 0.0111 - val_loss: 0.0075 - val_mae: 0.0611 - val_mse: 0.0075\n",
            "Epoch 66/100\n",
            "46/46 [==============================] - 0s 6ms/step - loss: 0.0111 - mae: 0.0786 - mse: 0.0111 - val_loss: 0.0077 - val_mae: 0.0626 - val_mse: 0.0077\n",
            "Epoch 67/100\n",
            "46/46 [==============================] - 0s 5ms/step - loss: 0.0110 - mae: 0.0781 - mse: 0.0110 - val_loss: 0.0078 - val_mae: 0.0637 - val_mse: 0.0078\n",
            "Epoch 68/100\n",
            "46/46 [==============================] - 0s 5ms/step - loss: 0.0107 - mae: 0.0782 - mse: 0.0107 - val_loss: 0.0083 - val_mae: 0.0673 - val_mse: 0.0083\n",
            "Epoch 69/100\n",
            "46/46 [==============================] - 0s 6ms/step - loss: 0.0108 - mae: 0.0794 - mse: 0.0108 - val_loss: 0.0076 - val_mae: 0.0622 - val_mse: 0.0076\n",
            "Epoch 70/100\n",
            "46/46 [==============================] - 0s 6ms/step - loss: 0.0110 - mae: 0.0794 - mse: 0.0110 - val_loss: 0.0081 - val_mae: 0.0658 - val_mse: 0.0081\n",
            "Epoch 71/100\n",
            "46/46 [==============================] - 0s 6ms/step - loss: 0.0109 - mae: 0.0790 - mse: 0.0109 - val_loss: 0.0075 - val_mae: 0.0607 - val_mse: 0.0075\n",
            "Epoch 72/100\n",
            "46/46 [==============================] - 0s 5ms/step - loss: 0.0114 - mae: 0.0802 - mse: 0.0114 - val_loss: 0.0100 - val_mae: 0.0769 - val_mse: 0.0100\n",
            "Epoch 73/100\n",
            "46/46 [==============================] - 0s 6ms/step - loss: 0.0111 - mae: 0.0798 - mse: 0.0111 - val_loss: 0.0082 - val_mae: 0.0666 - val_mse: 0.0082\n",
            "Epoch 74/100\n",
            "46/46 [==============================] - 0s 6ms/step - loss: 0.0106 - mae: 0.0774 - mse: 0.0106 - val_loss: 0.0077 - val_mae: 0.0618 - val_mse: 0.0077\n",
            "Epoch 75/100\n",
            "46/46 [==============================] - 0s 6ms/step - loss: 0.0108 - mae: 0.0781 - mse: 0.0108 - val_loss: 0.0077 - val_mae: 0.0626 - val_mse: 0.0077\n",
            "Epoch 76/100\n",
            "46/46 [==============================] - 0s 5ms/step - loss: 0.0114 - mae: 0.0806 - mse: 0.0114 - val_loss: 0.0081 - val_mae: 0.0656 - val_mse: 0.0081\n",
            "Epoch 77/100\n",
            "46/46 [==============================] - 0s 6ms/step - loss: 0.0106 - mae: 0.0775 - mse: 0.0106 - val_loss: 0.0075 - val_mae: 0.0619 - val_mse: 0.0075\n",
            "Epoch 78/100\n",
            "46/46 [==============================] - 0s 6ms/step - loss: 0.0111 - mae: 0.0801 - mse: 0.0111 - val_loss: 0.0075 - val_mae: 0.0615 - val_mse: 0.0075\n",
            "Epoch 79/100\n",
            "46/46 [==============================] - 0s 6ms/step - loss: 0.0107 - mae: 0.0770 - mse: 0.0107 - val_loss: 0.0078 - val_mae: 0.0639 - val_mse: 0.0078\n",
            "Epoch 80/100\n",
            "46/46 [==============================] - 0s 5ms/step - loss: 0.0109 - mae: 0.0794 - mse: 0.0109 - val_loss: 0.0078 - val_mae: 0.0637 - val_mse: 0.0078\n",
            "Epoch 81/100\n",
            "46/46 [==============================] - 0s 5ms/step - loss: 0.0104 - mae: 0.0767 - mse: 0.0104 - val_loss: 0.0078 - val_mae: 0.0635 - val_mse: 0.0078\n",
            "Epoch 82/100\n",
            "46/46 [==============================] - 0s 5ms/step - loss: 0.0106 - mae: 0.0765 - mse: 0.0106 - val_loss: 0.0080 - val_mae: 0.0651 - val_mse: 0.0080\n",
            "Epoch 83/100\n",
            "46/46 [==============================] - 0s 6ms/step - loss: 0.0113 - mae: 0.0798 - mse: 0.0113 - val_loss: 0.0081 - val_mae: 0.0661 - val_mse: 0.0081\n",
            "Epoch 84/100\n",
            "46/46 [==============================] - 0s 5ms/step - loss: 0.0107 - mae: 0.0769 - mse: 0.0107 - val_loss: 0.0079 - val_mae: 0.0642 - val_mse: 0.0079\n",
            "Epoch 85/100\n",
            "46/46 [==============================] - 0s 5ms/step - loss: 0.0108 - mae: 0.0790 - mse: 0.0108 - val_loss: 0.0078 - val_mae: 0.0635 - val_mse: 0.0078\n",
            "Epoch 86/100\n",
            "46/46 [==============================] - 0s 5ms/step - loss: 0.0111 - mae: 0.0793 - mse: 0.0111 - val_loss: 0.0082 - val_mae: 0.0670 - val_mse: 0.0082\n",
            "Restoring model weights from the end of the best epoch.\n",
            "Epoch 00086: early stopping\n"
          ]
        }
      ]
    },
    {
      "cell_type": "code",
      "metadata": {
        "colab": {
          "base_uri": "https://localhost:8080/",
          "height": 591
        },
        "id": "kvdI0RGCkBZX",
        "outputId": "da8550de-8663-4291-d595-c076b427b15b"
      },
      "source": [
        "# plot training performance over the epochs\n",
        "plot_training(history_new_model)"
      ],
      "execution_count": 36,
      "outputs": [
        {
          "output_type": "stream",
          "name": "stdout",
          "text": [
            "dict_keys(['loss', 'mae', 'mse', 'val_loss', 'val_mae', 'val_mse'])\n"
          ]
        },
        {
          "output_type": "display_data",
          "data": {
            "image/png": "[encoded data removed]",
            "text/plain": [
              "<Figure size 432x288 with 1 Axes>"
            ]
          },
          "metadata": {
            "needs_background": "light"
          }
        },
        {
          "output_type": "display_data",
          "data": {
            "image/png": "[encoded data removed]",
            "text/plain": [
              "<Figure size 432x288 with 1 Axes>"
            ]
          },
          "metadata": {
            "needs_background": "light"
          }
        }
      ]
    },
    {
      "cell_type": "markdown",
      "metadata": {
        "id": "9MEaigOpkVq_"
      },
      "source": [
        "#### 3. Evaluate the Model with Test data"
      ]
    },
    {
      "cell_type": "code",
      "metadata": {
        "colab": {
          "base_uri": "https://localhost:8080/"
        },
        "id": "bRjv0BoHkVrA",
        "outputId": "f4f13913-4ac7-4e08-ea21-53c335c2d2ff"
      },
      "source": [
        "y_test_predicted = model.predict([lixil_test, tech_ind_test])\n",
        "y_test_predicted = y_normaliser.inverse_transform(y_test_predicted)\n",
        "\n",
        "mse = mean_squared_error(unscaled_y_test,y_test_predicted)\n",
        "print(mse)\n",
        "\n",
        "r2= r2_score(unscaled_y_test,y_test_predicted)\n",
        "print(r2)"
      ],
      "execution_count": 37,
      "outputs": [
        {
          "output_type": "stream",
          "name": "stdout",
          "text": [
            "3.585369590291726\n",
            "0.971692643927538\n"
          ]
        }
      ]
    },
    {
      "cell_type": "markdown",
      "metadata": {
        "id": "431zu4pT9V7i"
      },
      "source": [
        "Here we can see, the model's performance is improved. Now our model's MSE value is reduced to 3.58 and also R2 value is increased to 0.9716, i.e. our prediction line can explain 97.1% variance of the actual data."
      ]
    },
    {
      "cell_type": "markdown",
      "metadata": {
        "id": "8QeuZbkfkVrC"
      },
      "source": [
        "#### 4. Visualize our Results"
      ]
    },
    {
      "cell_type": "code",
      "metadata": {
        "colab": {
          "base_uri": "https://localhost:8080/",
          "height": 374
        },
        "id": "c5QKuoG0kVrC",
        "outputId": "344a3694-5ec8-4cd0-a754-5c6963266b71"
      },
      "source": [
        "vizResult(unscaled_y_test,y_test_predicted)"
      ],
      "execution_count": 38,
      "outputs": [
        {
          "output_type": "display_data",
          "data": {
            "image/png": "[encoded data removed]",
            "text/plain": [
              "<Figure size 720x432 with 1 Axes>"
            ]
          },
          "metadata": {
            "needs_background": "light"
          }
        }
      ]
    },
    {
      "cell_type": "code",
      "metadata": {
        "colab": {
          "base_uri": "https://localhost:8080/",
          "height": 374
        },
        "id": "QihUyKll5KbV",
        "outputId": "b23eb3b6-7bd2-4f6b-aa58-0cdd51c97569"
      },
      "source": [
        "# Lets visualize all the error plots\n",
        "plt.gcf().set_size_inches(8, 6, forward=True)\n",
        "\n",
        "start = 0\n",
        "end = -1\n",
        "\n",
        "err = plt.plot(y_predicted[start:end]-unscaled_y_test[start:end], label='Error LSTM')\n",
        "err_new = plt.plot(y_test_predicted[start:end]-unscaled_y_test[start:end], label='Error LSTM + Technical Indicator')\n",
        "ideal = plt.axhline(y=0.0, color='r', linestyle='-')\n",
        "\n",
        "\n",
        "plt.legend(['error_LSTM','error_LSTM_Tech_Ind', 'ideal'])\n",
        "\n",
        "plt.show()"
      ],
      "execution_count": 39,
      "outputs": [
        {
          "output_type": "display_data",
          "data": {
            "image/png": "[encoded data removed]",
            "text/plain": [
              "<Figure size 576x432 with 1 Axes>"
            ]
          },
          "metadata": {
            "needs_background": "light"
          }
        }
      ]
    },
    {
      "cell_type": "markdown",
      "metadata": {
        "id": "deXov4F5_j7U"
      },
      "source": [
        "1.   The first plot shows the actual vs. predicted closing price. This time the prediction is closer than before.\n",
        "2.   The next plot shows a comparison of the error obtained by the model in Ideal scenario, the first model (LSTM), and also the model with Technical Indicator (LSTM_Technical_Ind). LSTM_Technical_Ind shows less error. "
      ]
    },
    {
      "cell_type": "markdown",
      "metadata": {
        "id": "9tcKdX5s7u2T"
      },
      "source": [
        "#### What about directional correctness?"
      ]
    },
    {
      "cell_type": "markdown",
      "metadata": {
        "id": "6tbWivR6ANTl"
      },
      "source": [
        "Now finally it is also important to see the directional correctness of prediction, i.e. how many predictions are correctly showing the increasing nature (Up) between two consecutive days, and how many predictions are correctly showing the decreasing nature (Down) between two consecutive days?"
      ]
    },
    {
      "cell_type": "code",
      "metadata": {
        "colab": {
          "base_uri": "https://localhost:8080/"
        },
        "id": "XsC2CdTIYQWS",
        "outputId": "cf6e5c3a-8eae-44a2-ff5e-9ab75c7113da"
      },
      "source": [
        "correct_up = 0\n",
        "correct_down = 0\n",
        "exact  = 0\n",
        "  \n",
        "predicted = y_normaliser.inverse_transform(model.predict([lixil_test,tech_ind_test]))\n",
        "# print(predicted.ravel())\n",
        "# print(unscaled_y_test.ravel())\n",
        "\n",
        "for i in range(1,len(list(predicted))):\n",
        "  if predicted[i]-predicted[i-1]>0.00005 and unscaled_y_test[i]-unscaled_y_test[i-1]>0.00005:\n",
        "    correct_up+= 1\n",
        "  elif predicted[i]-predicted[i-1]<0.00005 and unscaled_y_test[i]-unscaled_y_test[i-1]<0.00005:\n",
        "    correct_down+= 1\n",
        "  elif predicted[i]-predicted[i-1]==0 and unscaled_y_test[i]-unscaled_y_test[i-1]==0:\n",
        "    exact+=1\n",
        "\n",
        "directional_correctness = ((correct_up + correct_down + exact) /len(unscaled_y_test))\n",
        "print(\"Directional correctness is: \",format(directional_correctness,'.2%')) \n"
      ],
      "execution_count": 40,
      "outputs": [
        {
          "output_type": "stream",
          "name": "stdout",
          "text": [
            "Directional correctness is:  51.99%\n"
          ]
        }
      ]
    },
    {
      "cell_type": "markdown",
      "metadata": {
        "id": "hzsF8b15A0vS"
      },
      "source": [
        "It can be seen that the captured directional correctness of the model is 52% approximately. This infers, although the model is fitting the data to a very good extent (R2 -> 97%), but the model is failing in many cases to properly identify the direction of price (upwards or downwards) for consecutive two days. For a automating traded platform, this metric is important, and hence needs to be addressed. "
      ]
    },
    {
      "cell_type": "markdown",
      "metadata": {
        "id": "4kWWi29akVrF"
      },
      "source": [
        "## Save the Model"
      ]
    },
    {
      "cell_type": "code",
      "metadata": {
        "id": "pVg-bPQ2kVrH"
      },
      "source": [
        "model_path = 'Models/stock_model.h5'\n",
        "\n",
        "if not os.path.exists(\"Models\"):\n",
        "    os.makedirs(\"Models\")\n",
        "    print(\"Folder for storing models created Successfully !\")    \n",
        "model.save(model_path)"
      ],
      "execution_count": 41,
      "outputs": []
    },
    {
      "cell_type": "markdown",
      "metadata": {
        "id": "bhJmsDf5BnT9"
      },
      "source": [
        "### Next Steps?\n",
        "\n",
        "\n",
        "1.   Authors in [The Application of Stock Index Price Prediction with Neural Network](https://www.mdpi.com/2297-8747/25/3/53) also discussed about Macroeconomic Variable (e.g. Exchange Rate), that could have some impact of the stock price prediction.\n",
        "2.   Stock price is always dynamic, and even a tweet from a important person could crash all the predictive systems. It would be also interesting to see the impact of these external factors. \n",
        "\n"
      ]
    }
  ]
}